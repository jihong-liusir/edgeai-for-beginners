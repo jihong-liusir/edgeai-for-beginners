{
 "cells": [
  {
   "cell_type": "markdown",
   "id": "89e4efda",
   "metadata": {},
   "source": [
    "# Mfano 01: Mazungumzo ya Haraka kupitia OpenAI SDK\n",
    "\n",
    "Notebook hii inaonyesha jinsi ya kutumia OpenAI SDK na Microsoft Foundry Local kwa mazungumzo ya haraka.\n",
    "\n",
    "## Muhtasari\n",
    "\n",
    "Mfano huu unaonyesha:\n",
    "- Kutumia OpenAI Python SDK na Foundry Local\n",
    "- Kushughulikia mipangilio ya Azure OpenAI na Foundry ya ndani\n",
    "- Kutekeleza utunzaji sahihi wa makosa na mikakati ya mbadala\n",
    "- Kutumia FoundryLocalManager kwa usimamizi wa huduma\n"
   ]
  },
  {
   "cell_type": "markdown",
   "id": "1a8048e2",
   "metadata": {},
   "source": [
    "## Mahitaji ya Awali\n",
    "\n",
    "Hakikisha una:\n",
    "1. Foundry Local imewekwa na inaendesha\n",
    "2. Modeli imepakiwa (mfano, `foundry model run phi-4-mini`)\n",
    "3. Vifurushi vya Python vinavyohitajika vimewekwa\n",
    "\n",
    "### Sakinisha Vitegemezi\n"
   ]
  },
  {
   "cell_type": "code",
   "execution_count": null,
   "id": "2438a478",
   "metadata": {},
   "outputs": [],
   "source": [
    "# Install required packages if not already installed\n",
    "!pip install openai foundry-local-sdk"
   ]
  },
  {
   "cell_type": "markdown",
   "id": "c9b6f26b",
   "metadata": {},
   "source": [
    "## Ingiza Maktaba Zinazohitajika\n"
   ]
  },
  {
   "cell_type": "code",
   "execution_count": null,
   "id": "ffaf07f1",
   "metadata": {},
   "outputs": [],
   "source": [
    "import os\n",
    "import sys\n",
    "from openai import OpenAI\n",
    "\n",
    "try:\n",
    "    from foundry_local import FoundryLocalManager\n",
    "    FOUNDRY_SDK_AVAILABLE = True\n",
    "    print(\"✅ Foundry Local SDK is available\")\n",
    "except ImportError:\n",
    "    FOUNDRY_SDK_AVAILABLE = False\n",
    "    print(\"⚠️ Foundry Local SDK not available, will use manual configuration\")"
   ]
  },
  {
   "cell_type": "markdown",
   "id": "ad0797ee",
   "metadata": {},
   "source": [
    "## Usanidi\n",
    "\n",
    "Sanidi usanidi wako. Unaweza kutumia mojawapo ya:\n",
    "1. **Azure OpenAI** (inayotegemea wingu)\n",
    "2. **Foundry Local** (utambuzi wa ndani)\n",
    "\n",
    "### Chaguo la 1: Usanidi wa Azure OpenAI\n"
   ]
  },
  {
   "cell_type": "code",
   "execution_count": null,
   "id": "bc8e1618",
   "metadata": {},
   "outputs": [],
   "source": [
    "# Azure OpenAI Configuration (uncomment and set your values)\n",
    "# os.environ[\"AZURE_OPENAI_ENDPOINT\"] = \"https://your-resource.openai.azure.com\"\n",
    "# os.environ[\"AZURE_OPENAI_API_KEY\"] = \"your-api-key\"\n",
    "# os.environ[\"AZURE_OPENAI_API_VERSION\"] = \"2024-08-01-preview\"\n",
    "# os.environ[\"MODEL\"] = \"your-deployment-name\""
   ]
  },
  {
   "cell_type": "markdown",
   "id": "48239d5a",
   "metadata": {},
   "source": [
    "### Chaguo la 2: Usanidi wa Ndani wa Foundry\n"
   ]
  },
  {
   "cell_type": "code",
   "execution_count": null,
   "id": "0d6daa80",
   "metadata": {},
   "outputs": [],
   "source": [
    "# Foundry Local Configuration\n",
    "MODEL_ALIAS = \"phi-4-mini\"  # Change this to your preferred model\n",
    "BASE_URL = \"http://localhost:8000\"  # Default Foundry Local URL\n",
    "API_KEY = \"\"  # Usually not needed for local"
   ]
  },
  {
   "cell_type": "markdown",
   "id": "016e826e",
   "metadata": {},
   "source": [
    "## Uanzishaji wa Mteja\n",
    "\n",
    "Unda mteja wa OpenAI kulingana na usanidi wako:\n"
   ]
  },
  {
   "cell_type": "code",
   "execution_count": null,
   "id": "941ec581",
   "metadata": {},
   "outputs": [],
   "source": [
    "def create_client():\n",
    "    \"\"\"Create and configure OpenAI client.\"\"\"\n",
    "    \n",
    "    # Check for Azure OpenAI configuration\n",
    "    azure_endpoint = os.environ.get(\"AZURE_OPENAI_ENDPOINT\")\n",
    "    azure_api_key = os.environ.get(\"AZURE_OPENAI_API_KEY\")\n",
    "    azure_api_version = os.environ.get(\"AZURE_OPENAI_API_VERSION\", \"2024-08-01-preview\")\n",
    "    \n",
    "    if azure_endpoint and azure_api_key:\n",
    "        # Azure OpenAI path\n",
    "        model = os.environ.get(\"MODEL\", \"your-deployment-name\")\n",
    "        client = OpenAI(\n",
    "            base_url=f\"{azure_endpoint}/openai\",\n",
    "            api_key=azure_api_key,\n",
    "            default_query={\"api-version\": azure_api_version},\n",
    "        )\n",
    "        print(f\"🌐 Using Azure OpenAI with model: {model}\")\n",
    "        return client, model\n",
    "    \n",
    "    # Foundry Local path\n",
    "    if FOUNDRY_SDK_AVAILABLE:\n",
    "        try:\n",
    "            # Use FoundryLocalManager for proper service management\n",
    "            manager = FoundryLocalManager(MODEL_ALIAS)\n",
    "            model_info = manager.get_model_info(MODEL_ALIAS)\n",
    "            \n",
    "            # Configure OpenAI client to use local Foundry service\n",
    "            client = OpenAI(\n",
    "                base_url=manager.endpoint,\n",
    "                api_key=manager.api_key  # API key is not required for local usage\n",
    "            )\n",
    "            model = model_info.id\n",
    "            print(f\"🏠 Using Foundry Local SDK with model: {model}\")\n",
    "            return client, model\n",
    "        except Exception as e:\n",
    "            print(f\"⚠️ Could not use Foundry SDK ({e}), falling back to manual configuration\")\n",
    "    \n",
    "    # Fallback to manual configuration\n",
    "    client = OpenAI(\n",
    "        base_url=f\"{BASE_URL}/v1\",\n",
    "        api_key=API_KEY\n",
    "    )\n",
    "    model = MODEL_ALIAS\n",
    "    print(f\"🔧 Using manual configuration with model: {model}\")\n",
    "    return client, model\n",
    "\n",
    "# Initialize the client\n",
    "client, model = create_client()"
   ]
  },
  {
   "cell_type": "markdown",
   "id": "9ba21aaf",
   "metadata": {},
   "source": [
    "## Mfano wa Mazungumzo ya Msingi\n",
    "\n",
    "Tujaribu mazungumzo rahisi:\n"
   ]
  },
  {
   "cell_type": "code",
   "execution_count": null,
   "id": "8c218fe9",
   "metadata": {},
   "outputs": [],
   "source": [
    "def chat_with_model(prompt, max_tokens=128):\n",
    "    \"\"\"Send a chat message to the model and get a response.\"\"\"\n",
    "    try:\n",
    "        response = client.chat.completions.create(\n",
    "            model=model,\n",
    "            messages=[{\"role\": \"user\", \"content\": prompt}],\n",
    "            max_tokens=max_tokens\n",
    "        )\n",
    "        \n",
    "        return response.choices[0].message.content\n",
    "    except Exception as e:\n",
    "        return f\"Error: {e}\"\n",
    "\n",
    "# Test with a simple prompt\n",
    "prompt = \"Say hello from Foundry Local and explain what you are in one sentence.\"\n",
    "print(f\"👤 User: {prompt}\")\n",
    "print(\"\\n🤖 Assistant:\")\n",
    "response = chat_with_model(prompt)\n",
    "print(response)"
   ]
  },
  {
   "cell_type": "markdown",
   "id": "4486da26",
   "metadata": {},
   "source": [
    "## Kikao cha Mazungumzo ya Kuingiliana\n",
    "\n",
    "Jaribu aina tofauti za maelekezo ili kuona jinsi modeli inavyojibu:\n"
   ]
  },
  {
   "cell_type": "code",
   "execution_count": null,
   "id": "498a434e",
   "metadata": {},
   "outputs": [],
   "source": [
    "# Example prompts to try\n",
    "example_prompts = [\n",
    "    \"What are the benefits of edge AI?\",\n",
    "    \"Explain the difference between local and cloud AI inference.\",\n",
    "    \"Write a short Python function to calculate the factorial of a number.\",\n",
    "    \"What is Microsoft Foundry Local?\"\n",
    "]\n",
    "\n",
    "for i, prompt in enumerate(example_prompts, 1):\n",
    "    print(f\"\\n{'='*50}\")\n",
    "    print(f\"Example {i}: {prompt}\")\n",
    "    print(f\"{'='*50}\")\n",
    "    \n",
    "    response = chat_with_model(prompt, max_tokens=200)\n",
    "    print(response)"
   ]
  },
  {
   "cell_type": "markdown",
   "id": "f7de79cf",
   "metadata": {},
   "source": [
    "## Matumizi ya Juu: Majibu ya Kutiririsha\n",
    "\n",
    "Kwa majibu marefu, kutiririsha kunaweza kutoa uzoefu bora kwa mtumiaji:\n"
   ]
  },
  {
   "cell_type": "code",
   "execution_count": null,
   "id": "2fd1929b",
   "metadata": {},
   "outputs": [],
   "source": [
    "def chat_with_streaming(prompt, max_tokens=300):\n",
    "    \"\"\"Send a chat message with streaming response.\"\"\"\n",
    "    try:\n",
    "        stream = client.chat.completions.create(\n",
    "            model=model,\n",
    "            messages=[{\"role\": \"user\", \"content\": prompt}],\n",
    "            max_tokens=max_tokens,\n",
    "            stream=True\n",
    "        )\n",
    "        \n",
    "        print(\"🤖 Assistant (streaming):\")\n",
    "        full_response = \"\"\n",
    "        for chunk in stream:\n",
    "            if chunk.choices[0].delta.content is not None:\n",
    "                content = chunk.choices[0].delta.content\n",
    "                print(content, end=\"\", flush=True)\n",
    "                full_response += content\n",
    "        print(\"\\n\")  # New line after streaming\n",
    "        return full_response\n",
    "    except Exception as e:\n",
    "        return f\"Error: {e}\"\n",
    "\n",
    "# Test streaming with a longer prompt\n",
    "streaming_prompt = \"Explain the advantages of running AI models locally on device versus in the cloud. Include privacy, latency, and cost considerations.\"\n",
    "print(f\"👤 User: {streaming_prompt}\\n\")\n",
    "streaming_response = chat_with_streaming(streaming_prompt)"
   ]
  },
  {
   "cell_type": "markdown",
   "id": "2af26f71",
   "metadata": {},
   "source": [
    "## Kushughulikia Makosa na Uchunguzi\n",
    "\n",
    "Hebu tuangalie hali ya huduma na mifano inayopatikana:\n"
   ]
  },
  {
   "cell_type": "code",
   "execution_count": null,
   "id": "ce916e8c",
   "metadata": {},
   "outputs": [],
   "source": [
    "def check_service_health():\n",
    "    \"\"\"Check Foundry Local service health.\"\"\"\n",
    "    try:\n",
    "        # Try to list available models\n",
    "        models_response = client.models.list()\n",
    "        models = [model.id for model in models_response.data]\n",
    "        \n",
    "        print(\"✅ Service is healthy\")\n",
    "        print(f\"📋 Available models: {models}\")\n",
    "        print(f\"🎯 Current model: {model}\")\n",
    "        \n",
    "        if model in models:\n",
    "            print(\"✅ Current model is available\")\n",
    "        else:\n",
    "            print(\"⚠️ Current model may not be loaded\")\n",
    "            \n",
    "    except Exception as e:\n",
    "        print(f\"❌ Service check failed: {e}\")\n",
    "        print(\"\\n🔧 Troubleshooting tips:\")\n",
    "        print(\"1. Make sure Foundry Local is running\")\n",
    "        print(\"2. Check if a model is loaded: foundry service ps\")\n",
    "        print(\"3. Verify the endpoint URL is correct\")\n",
    "\n",
    "check_service_health()"
   ]
  },
  {
   "cell_type": "markdown",
   "id": "4a20cc6a",
   "metadata": {},
   "source": [
    "## Jaribio la Maagizo Maalum\n",
    "\n",
    "Tumia seli iliyo hapa chini kujaribu maagizo yako mwenyewe:\n"
   ]
  },
  {
   "cell_type": "code",
   "execution_count": null,
   "id": "a811dc55",
   "metadata": {},
   "outputs": [],
   "source": [
    "# Enter your custom prompt here\n",
    "custom_prompt = \"Write a haiku about artificial intelligence running on edge devices.\"\n",
    "\n",
    "print(f\"👤 User: {custom_prompt}\\n\")\n",
    "custom_response = chat_with_model(custom_prompt, max_tokens=100)\n",
    "print(f\"🤖 Assistant: {custom_response}\")"
   ]
  },
  {
   "cell_type": "markdown",
   "id": "94781c19",
   "metadata": {},
   "source": [
    "## Muhtasari\n",
    "\n",
    "Daftari hili limeonyesha:\n",
    "\n",
    "1. **✅ Usanidi wa Mteja**: Jinsi ya kusanidi OpenAI SDK na Foundry Local  \n",
    "2. **✅ Mazungumzo ya Msingi**: Mijibizano rahisi ya ombi na jibu  \n",
    "3. **✅ Utiririshaji**: Uundaji wa majibu kwa wakati halisi  \n",
    "4. **✅ Kushughulikia Makosa**: Kushughulikia makosa kwa ustadi na uchunguzi  \n",
    "5. **✅ Afya ya Huduma**: Kukagua upatikanaji wa modeli na hali ya huduma  \n",
    "\n",
    "### Hatua Zifuatazo\n",
    "\n",
    "- **Mfano 02**: Ujumuishaji wa hali ya juu wa SDK na msaada wa Azure OpenAI  \n",
    "- **Mfano 04**: Kujenga programu ya mazungumzo ya Chainlit  \n",
    "- **Mfano 05**: Mifumo ya uratibu wa mawakala wengi  \n",
    "- **Mfano 06**: Uelekezaji wa modeli kwa akili  \n",
    "\n",
    "### Faida Muhimu za Foundry Local\n",
    "\n",
    "- 🔒 **Faragha**: Data haiondoki kwenye kifaa chako  \n",
    "- ⚡ **Kasi**: Ucheleweshaji mdogo wa utabiri wa ndani  \n",
    "- 💰 **Gharama**: Hakuna gharama za matumizi ya API  \n",
    "- 🔌 **Nje ya Mtandao**: Hufanya kazi bila muunganisho wa intaneti  \n",
    "- 🛠️ **Ulinganifu**: API inayolingana na OpenAI  \n"
   ]
  }
 ],
 "metadata": {
  "kernelspec": {
   "display_name": "pydev",
   "language": "python",
   "name": "python3"
  },
  "language_info": {
   "codemirror_mode": {
    "name": "ipython",
    "version": 3
   },
   "file_extension": ".py",
   "mimetype": "text/x-python",
   "name": "python",
   "nbconvert_exporter": "python",
   "pygments_lexer": "ipython3",
   "version": "3.11.8"
  },
  "coopTranslator": {
   "original_hash": "0bbbe436ca59387b037750ffce6e88b3",
   "translation_date": "2025-09-25T03:17:57+00:00",
   "source_file": "Module08/samples/01/chat_quickstart.ipynb",
   "language_code": "sw"
  }
 },
 "nbformat": 4,
 "nbformat_minor": 5
}
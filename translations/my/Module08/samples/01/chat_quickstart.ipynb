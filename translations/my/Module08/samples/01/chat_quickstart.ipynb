{
 "cells": [
  {
   "cell_type": "markdown",
   "id": "89e4efda",
   "metadata": {},
   "source": [
    "# နမူနာ ၀၁: OpenAI SDK ကို အသုံးပြု၍ အမြန်စကားပြောခြင်း\n",
    "\n",
    "ဒီ notebook က OpenAI SDK ကို Microsoft Foundry Local နဲ့အတူ အသုံးပြုပြီး အမြန်စကားပြောလုပ်ဆောင်ပုံကို ပြသထားပါတယ်။\n",
    "\n",
    "## အကျဉ်းချုပ်\n",
    "\n",
    "ဒီနမူနာမှာ ပြသထားတာတွေက:\n",
    "- Foundry Local နဲ့အတူ OpenAI Python SDK ကို အသုံးပြုခြင်း\n",
    "- Azure OpenAI နဲ့ Foundry Local configuration နှစ်ခုလုံးကို ကိုင်တွယ်ခြင်း\n",
    "- အမှားများကို သင့်တော်သောနည်းလမ်းဖြင့် ကိုင်တွယ်ခြင်းနှင့် fallback strategy များကို အကောင်အထည်ဖော်ခြင်း\n",
    "- FoundryLocalManager ကို အသုံးပြု၍ service ကို စီမံခန့်ခွဲခြင်း\n"
   ]
  },
  {
   "cell_type": "markdown",
   "id": "1a8048e2",
   "metadata": {},
   "source": [
    "## အခြေခံလိုအပ်ချက်များ\n",
    "\n",
    "သေချာစွာရှိထားပါ:\n",
    "1. Foundry Local ကို ထည့်သွင်းပြီး အလုပ်လုပ်နေသည်\n",
    "2. မော်ဒယ်တစ်ခုကို load လုပ်ထားသည် (ဥပမာ `foundry model run phi-4-mini`)\n",
    "3. လိုအပ်သော Python packages များကို ထည့်သွင်းပြီးဖြစ်သည်\n",
    "\n",
    "### Dependencies များကို ထည့်သွင်းရန်\n"
   ]
  },
  {
   "cell_type": "code",
   "execution_count": null,
   "id": "2438a478",
   "metadata": {},
   "outputs": [],
   "source": [
    "# Install required packages if not already installed\n",
    "!pip install openai foundry-local-sdk"
   ]
  },
  {
   "cell_type": "markdown",
   "id": "c9b6f26b",
   "metadata": {},
   "source": [
    "## လိုအပ်သောစာကြည့်တိုက်များကိုတင်သွင်းပါ\n"
   ]
  },
  {
   "cell_type": "code",
   "execution_count": null,
   "id": "ffaf07f1",
   "metadata": {},
   "outputs": [],
   "source": [
    "import os\n",
    "import sys\n",
    "from openai import OpenAI\n",
    "\n",
    "try:\n",
    "    from foundry_local import FoundryLocalManager\n",
    "    FOUNDRY_SDK_AVAILABLE = True\n",
    "    print(\"✅ Foundry Local SDK is available\")\n",
    "except ImportError:\n",
    "    FOUNDRY_SDK_AVAILABLE = False\n",
    "    print(\"⚠️ Foundry Local SDK not available, will use manual configuration\")"
   ]
  },
  {
   "cell_type": "markdown",
   "id": "ad0797ee",
   "metadata": {},
   "source": [
    "## ဖွဲ့စည်းမှု\n",
    "\n",
    "သင့်ဖွဲ့စည်းမှုကို စတင်ပြင်ဆင်ပါ။ သင်အသုံးပြုနိုင်သည်မှာ:\n",
    "1. **Azure OpenAI** (မိုဃ်းတိမ်အခြေပြု)\n",
    "2. **Foundry Local** (ဒေသခံအတုယူခြင်း)\n",
    "\n",
    "### ရွေးချယ်မှု ၁: Azure OpenAI ဖွဲ့စည်းမှု\n"
   ]
  },
  {
   "cell_type": "code",
   "execution_count": null,
   "id": "bc8e1618",
   "metadata": {},
   "outputs": [],
   "source": [
    "# Azure OpenAI Configuration (uncomment and set your values)\n",
    "# os.environ[\"AZURE_OPENAI_ENDPOINT\"] = \"https://your-resource.openai.azure.com\"\n",
    "# os.environ[\"AZURE_OPENAI_API_KEY\"] = \"your-api-key\"\n",
    "# os.environ[\"AZURE_OPENAI_API_VERSION\"] = \"2024-08-01-preview\"\n",
    "# os.environ[\"MODEL\"] = \"your-deployment-name\""
   ]
  },
  {
   "cell_type": "markdown",
   "id": "48239d5a",
   "metadata": {},
   "source": [
    "### အရွေးချယ်မှု ၂ - Foundry ဒေသခံဖွဲ့စည်းမှု\n"
   ]
  },
  {
   "cell_type": "code",
   "execution_count": null,
   "id": "0d6daa80",
   "metadata": {},
   "outputs": [],
   "source": [
    "# Foundry Local Configuration\n",
    "MODEL_ALIAS = \"phi-4-mini\"  # Change this to your preferred model\n",
    "BASE_URL = \"http://localhost:8000\"  # Default Foundry Local URL\n",
    "API_KEY = \"\"  # Usually not needed for local"
   ]
  },
  {
   "cell_type": "markdown",
   "id": "016e826e",
   "metadata": {},
   "source": [
    "## Client Initialization\n",
    "\n",
    "သင့် configuration အရ OpenAI client ကို ဖန်တီးပါ:\n"
   ]
  },
  {
   "cell_type": "code",
   "execution_count": null,
   "id": "941ec581",
   "metadata": {},
   "outputs": [],
   "source": [
    "def create_client():\n",
    "    \"\"\"Create and configure OpenAI client.\"\"\"\n",
    "    \n",
    "    # Check for Azure OpenAI configuration\n",
    "    azure_endpoint = os.environ.get(\"AZURE_OPENAI_ENDPOINT\")\n",
    "    azure_api_key = os.environ.get(\"AZURE_OPENAI_API_KEY\")\n",
    "    azure_api_version = os.environ.get(\"AZURE_OPENAI_API_VERSION\", \"2024-08-01-preview\")\n",
    "    \n",
    "    if azure_endpoint and azure_api_key:\n",
    "        # Azure OpenAI path\n",
    "        model = os.environ.get(\"MODEL\", \"your-deployment-name\")\n",
    "        client = OpenAI(\n",
    "            base_url=f\"{azure_endpoint}/openai\",\n",
    "            api_key=azure_api_key,\n",
    "            default_query={\"api-version\": azure_api_version},\n",
    "        )\n",
    "        print(f\"🌐 Using Azure OpenAI with model: {model}\")\n",
    "        return client, model\n",
    "    \n",
    "    # Foundry Local path\n",
    "    if FOUNDRY_SDK_AVAILABLE:\n",
    "        try:\n",
    "            # Use FoundryLocalManager for proper service management\n",
    "            manager = FoundryLocalManager(MODEL_ALIAS)\n",
    "            model_info = manager.get_model_info(MODEL_ALIAS)\n",
    "            \n",
    "            # Configure OpenAI client to use local Foundry service\n",
    "            client = OpenAI(\n",
    "                base_url=manager.endpoint,\n",
    "                api_key=manager.api_key  # API key is not required for local usage\n",
    "            )\n",
    "            model = model_info.id\n",
    "            print(f\"🏠 Using Foundry Local SDK with model: {model}\")\n",
    "            return client, model\n",
    "        except Exception as e:\n",
    "            print(f\"⚠️ Could not use Foundry SDK ({e}), falling back to manual configuration\")\n",
    "    \n",
    "    # Fallback to manual configuration\n",
    "    client = OpenAI(\n",
    "        base_url=f\"{BASE_URL}/v1\",\n",
    "        api_key=API_KEY\n",
    "    )\n",
    "    model = MODEL_ALIAS\n",
    "    print(f\"🔧 Using manual configuration with model: {model}\")\n",
    "    return client, model\n",
    "\n",
    "# Initialize the client\n",
    "client, model = create_client()"
   ]
  },
  {
   "cell_type": "markdown",
   "id": "9ba21aaf",
   "metadata": {},
   "source": [
    "## အခြေခံ Chat ဥပမာ\n",
    "\n",
    "ရိုးရိုး chat အပြန်အလှန်ကို စမ်းကြည့်ရအောင်:\n"
   ]
  },
  {
   "cell_type": "code",
   "execution_count": null,
   "id": "8c218fe9",
   "metadata": {},
   "outputs": [],
   "source": [
    "def chat_with_model(prompt, max_tokens=128):\n",
    "    \"\"\"Send a chat message to the model and get a response.\"\"\"\n",
    "    try:\n",
    "        response = client.chat.completions.create(\n",
    "            model=model,\n",
    "            messages=[{\"role\": \"user\", \"content\": prompt}],\n",
    "            max_tokens=max_tokens\n",
    "        )\n",
    "        \n",
    "        return response.choices[0].message.content\n",
    "    except Exception as e:\n",
    "        return f\"Error: {e}\"\n",
    "\n",
    "# Test with a simple prompt\n",
    "prompt = \"Say hello from Foundry Local and explain what you are in one sentence.\"\n",
    "print(f\"👤 User: {prompt}\")\n",
    "print(\"\\n🤖 Assistant:\")\n",
    "response = chat_with_model(prompt)\n",
    "print(response)"
   ]
  },
  {
   "cell_type": "markdown",
   "id": "4486da26",
   "metadata": {},
   "source": [
    "## အပြန်အလှန် စကားဝိုင်း\n",
    "\n",
    "မော်ဒယ်ရဲ့ တုံ့ပြန်မှုကို ကြည့်ရှုရန် အမျိုးမျိုးသော အစပြုစကားများကို စမ်းကြည့်ပါ:\n"
   ]
  },
  {
   "cell_type": "code",
   "execution_count": null,
   "id": "498a434e",
   "metadata": {},
   "outputs": [],
   "source": [
    "# Example prompts to try\n",
    "example_prompts = [\n",
    "    \"What are the benefits of edge AI?\",\n",
    "    \"Explain the difference between local and cloud AI inference.\",\n",
    "    \"Write a short Python function to calculate the factorial of a number.\",\n",
    "    \"What is Microsoft Foundry Local?\"\n",
    "]\n",
    "\n",
    "for i, prompt in enumerate(example_prompts, 1):\n",
    "    print(f\"\\n{'='*50}\")\n",
    "    print(f\"Example {i}: {prompt}\")\n",
    "    print(f\"{'='*50}\")\n",
    "    \n",
    "    response = chat_with_model(prompt, max_tokens=200)\n",
    "    print(response)"
   ]
  },
  {
   "cell_type": "markdown",
   "id": "f7de79cf",
   "metadata": {},
   "source": [
    "## အဆင့်မြင့် အသုံးပြုမှု: Streaming Responses\n",
    "\n",
    "အကြမ်းမားသော အဖြေများအတွက် Streaming သည် ပိုမိုကောင်းမွန်သော အသုံးပြုသူအတွေ့အကြုံကို ပေးနိုင်ပါသည်။\n"
   ]
  },
  {
   "cell_type": "code",
   "execution_count": null,
   "id": "2fd1929b",
   "metadata": {},
   "outputs": [],
   "source": [
    "def chat_with_streaming(prompt, max_tokens=300):\n",
    "    \"\"\"Send a chat message with streaming response.\"\"\"\n",
    "    try:\n",
    "        stream = client.chat.completions.create(\n",
    "            model=model,\n",
    "            messages=[{\"role\": \"user\", \"content\": prompt}],\n",
    "            max_tokens=max_tokens,\n",
    "            stream=True\n",
    "        )\n",
    "        \n",
    "        print(\"🤖 Assistant (streaming):\")\n",
    "        full_response = \"\"\n",
    "        for chunk in stream:\n",
    "            if chunk.choices[0].delta.content is not None:\n",
    "                content = chunk.choices[0].delta.content\n",
    "                print(content, end=\"\", flush=True)\n",
    "                full_response += content\n",
    "        print(\"\\n\")  # New line after streaming\n",
    "        return full_response\n",
    "    except Exception as e:\n",
    "        return f\"Error: {e}\"\n",
    "\n",
    "# Test streaming with a longer prompt\n",
    "streaming_prompt = \"Explain the advantages of running AI models locally on device versus in the cloud. Include privacy, latency, and cost considerations.\"\n",
    "print(f\"👤 User: {streaming_prompt}\\n\")\n",
    "streaming_response = chat_with_streaming(streaming_prompt)"
   ]
  },
  {
   "cell_type": "markdown",
   "id": "2af26f71",
   "metadata": {},
   "source": [
    "## အမှားကိုင်တွယ်ခြင်းနှင့် ရောဂါရှာဖွေခြင်း\n",
    "\n",
    "ဝန်ဆောင်မှုအခြေအနေနှင့် ရရှိနိုင်သောမော်ဒယ်များကို စစ်ဆေးကြမယ်:\n"
   ]
  },
  {
   "cell_type": "code",
   "execution_count": null,
   "id": "ce916e8c",
   "metadata": {},
   "outputs": [],
   "source": [
    "def check_service_health():\n",
    "    \"\"\"Check Foundry Local service health.\"\"\"\n",
    "    try:\n",
    "        # Try to list available models\n",
    "        models_response = client.models.list()\n",
    "        models = [model.id for model in models_response.data]\n",
    "        \n",
    "        print(\"✅ Service is healthy\")\n",
    "        print(f\"📋 Available models: {models}\")\n",
    "        print(f\"🎯 Current model: {model}\")\n",
    "        \n",
    "        if model in models:\n",
    "            print(\"✅ Current model is available\")\n",
    "        else:\n",
    "            print(\"⚠️ Current model may not be loaded\")\n",
    "            \n",
    "    except Exception as e:\n",
    "        print(f\"❌ Service check failed: {e}\")\n",
    "        print(\"\\n🔧 Troubleshooting tips:\")\n",
    "        print(\"1. Make sure Foundry Local is running\")\n",
    "        print(\"2. Check if a model is loaded: foundry service ps\")\n",
    "        print(\"3. Verify the endpoint URL is correct\")\n",
    "\n",
    "check_service_health()"
   ]
  },
  {
   "cell_type": "markdown",
   "id": "4a20cc6a",
   "metadata": {},
   "source": [
    "## အထူး Prompt စမ်းသပ်ခြင်း\n",
    "\n",
    "အောက်ပါ cell ကို အသုံးပြု၍ သင့်ကိုယ်ပိုင် prompt များကို စမ်းသပ်ပါ:\n"
   ]
  },
  {
   "cell_type": "code",
   "execution_count": null,
   "id": "a811dc55",
   "metadata": {},
   "outputs": [],
   "source": [
    "# Enter your custom prompt here\n",
    "custom_prompt = \"Write a haiku about artificial intelligence running on edge devices.\"\n",
    "\n",
    "print(f\"👤 User: {custom_prompt}\\n\")\n",
    "custom_response = chat_with_model(custom_prompt, max_tokens=100)\n",
    "print(f\"🤖 Assistant: {custom_response}\")"
   ]
  },
  {
   "cell_type": "markdown",
   "id": "94781c19",
   "metadata": {},
   "source": [
    "## အကျဉ်းချုပ်\n",
    "\n",
    "ဒီ notebook မှာ အောက်ပါအရာတွေကို ပြသထားပါတယ် -\n",
    "\n",
    "1. **✅ Client Setup**: Foundry Local နဲ့ OpenAI SDK ကို ဘယ်လို configure လုပ်ရမလဲ\n",
    "2. **✅ Basic Chat**: ရိုးရိုး request-response အပြန်အလှန်\n",
    "3. **✅ Streaming**: အချိန်နှင့်တပြေးညီ response ထုတ်ပေးခြင်း\n",
    "4. **✅ Error Handling**: အမှားများကို ချုပ်ကိုင်ပြီး အကဲဖြတ်နိုင်မှု\n",
    "5. **✅ Service Health**: မော်ဒယ်ရရှိနိုင်မှုနဲ့ ဝန်ဆောင်မှုအခြေအနေ စစ်ဆေးခြင်း\n",
    "\n",
    "### နောက်ထပ်အဆင့်များ\n",
    "\n",
    "- **Sample 02**: Azure OpenAI ကို ထောက်ခံတဲ့ အဆင့်မြင့် SDK ပေါင်းစပ်မှု\n",
    "- **Sample 04**: Chainlit chat application တည်ဆောက်ခြင်း\n",
    "- **Sample 05**: Multi-agent orchestration systems\n",
    "- **Sample 06**: Intelligent model routing\n",
    "\n",
    "### Foundry Local ရဲ့ အဓိက အကျိုးကျေးဇူးများ\n",
    "\n",
    "- 🔒 **Privacy**: ဒေတာတွေက သင့် device ထဲက မထွက်ဘူး\n",
    "- ⚡ **Speed**: အချိန်နှင့်တပြေးညီ အမြန်ဆုံး inference\n",
    "- 💰 **Cost**: API အသုံးပြုမှု ကုန်ကျစရိတ်မရှိ\n",
    "- 🔌 **Offline**: အင်တာနက်မလိုအပ်ဘဲ အလုပ်လုပ်နိုင်\n",
    "- 🛠️ **Compatibility**: OpenAI-compatible API\n"
   ]
  }
 ],
 "metadata": {
  "kernelspec": {
   "display_name": "pydev",
   "language": "python",
   "name": "python3"
  },
  "language_info": {
   "codemirror_mode": {
    "name": "ipython",
    "version": 3
   },
   "file_extension": ".py",
   "mimetype": "text/x-python",
   "name": "python",
   "nbconvert_exporter": "python",
   "pygments_lexer": "ipython3",
   "version": "3.11.8"
  },
  "coopTranslator": {
   "original_hash": "0bbbe436ca59387b037750ffce6e88b3",
   "translation_date": "2025-09-25T03:21:38+00:00",
   "source_file": "Module08/samples/01/chat_quickstart.ipynb",
   "language_code": "my"
  }
 },
 "nbformat": 4,
 "nbformat_minor": 5
}
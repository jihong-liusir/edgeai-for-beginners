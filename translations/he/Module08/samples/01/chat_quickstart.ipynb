{
 "cells": [
  {
   "cell_type": "markdown",
   "id": "89e4efda",
   "metadata": {},
   "source": [
    "# דוגמה 01: שיחה מהירה באמצעות OpenAI SDK\n",
    "\n",
    "מחברת זו מדגימה כיצד להשתמש ב-SDK של OpenAI עם Microsoft Foundry Local לצורך אינטראקציות שיחה מהירות.\n",
    "\n",
    "## סקירה כללית\n",
    "\n",
    "דוגמה זו מציגה:\n",
    "- שימוש ב-SDK של OpenAI Python עם Foundry Local\n",
    "- טיפול הן בקונפיגורציות של Azure OpenAI והן בקונפיגורציות מקומיות של Foundry\n",
    "- יישום טיפול נכון בשגיאות ואסטרטגיות גיבוי\n",
    "- שימוש ב-FoundryLocalManager לניהול שירותים\n"
   ]
  },
  {
   "cell_type": "markdown",
   "id": "1a8048e2",
   "metadata": {},
   "source": [
    "## דרישות מקדימות\n",
    "\n",
    "וודאו שיש לכם:\n",
    "1. Foundry Local מותקן ופועל\n",
    "2. מודל טעון (לדוגמה, `foundry model run phi-4-mini`)\n",
    "3. חבילות Python הנדרשות מותקנות\n",
    "\n",
    "### התקנת תלות\n"
   ]
  },
  {
   "cell_type": "code",
   "execution_count": null,
   "id": "2438a478",
   "metadata": {},
   "outputs": [],
   "source": [
    "# Install required packages if not already installed\n",
    "!pip install openai foundry-local-sdk"
   ]
  },
  {
   "cell_type": "markdown",
   "id": "c9b6f26b",
   "metadata": {},
   "source": [
    "## ייבוא ספריות נדרשות\n"
   ]
  },
  {
   "cell_type": "code",
   "execution_count": null,
   "id": "ffaf07f1",
   "metadata": {},
   "outputs": [],
   "source": [
    "import os\n",
    "import sys\n",
    "from openai import OpenAI\n",
    "\n",
    "try:\n",
    "    from foundry_local import FoundryLocalManager\n",
    "    FOUNDRY_SDK_AVAILABLE = True\n",
    "    print(\"✅ Foundry Local SDK is available\")\n",
    "except ImportError:\n",
    "    FOUNDRY_SDK_AVAILABLE = False\n",
    "    print(\"⚠️ Foundry Local SDK not available, will use manual configuration\")"
   ]
  },
  {
   "cell_type": "markdown",
   "id": "ad0797ee",
   "metadata": {},
   "source": [
    "## הגדרות\n",
    "\n",
    "הגדר את ההגדרות שלך. ניתן להשתמש באחת מהאפשרויות הבאות:\n",
    "1. **Azure OpenAI** (מבוסס ענן)\n",
    "2. **Foundry Local** (הסקה מקומית)\n",
    "\n",
    "### אפשרות 1: הגדרות Azure OpenAI\n"
   ]
  },
  {
   "cell_type": "code",
   "execution_count": null,
   "id": "bc8e1618",
   "metadata": {},
   "outputs": [],
   "source": [
    "# Azure OpenAI Configuration (uncomment and set your values)\n",
    "# os.environ[\"AZURE_OPENAI_ENDPOINT\"] = \"https://your-resource.openai.azure.com\"\n",
    "# os.environ[\"AZURE_OPENAI_API_KEY\"] = \"your-api-key\"\n",
    "# os.environ[\"AZURE_OPENAI_API_VERSION\"] = \"2024-08-01-preview\"\n",
    "# os.environ[\"MODEL\"] = \"your-deployment-name\""
   ]
  },
  {
   "cell_type": "markdown",
   "id": "48239d5a",
   "metadata": {},
   "source": [
    "### אפשרות 2: תצורה מקומית של Foundry\n"
   ]
  },
  {
   "cell_type": "code",
   "execution_count": null,
   "id": "0d6daa80",
   "metadata": {},
   "outputs": [],
   "source": [
    "# Foundry Local Configuration\n",
    "MODEL_ALIAS = \"phi-4-mini\"  # Change this to your preferred model\n",
    "BASE_URL = \"http://localhost:8000\"  # Default Foundry Local URL\n",
    "API_KEY = \"\"  # Usually not needed for local"
   ]
  },
  {
   "cell_type": "markdown",
   "id": "016e826e",
   "metadata": {},
   "source": [
    "## אתחול לקוח\n",
    "\n",
    "צרו את לקוח OpenAI בהתאם להגדרות שלכם:\n"
   ]
  },
  {
   "cell_type": "code",
   "execution_count": null,
   "id": "941ec581",
   "metadata": {},
   "outputs": [],
   "source": [
    "def create_client():\n",
    "    \"\"\"Create and configure OpenAI client.\"\"\"\n",
    "    \n",
    "    # Check for Azure OpenAI configuration\n",
    "    azure_endpoint = os.environ.get(\"AZURE_OPENAI_ENDPOINT\")\n",
    "    azure_api_key = os.environ.get(\"AZURE_OPENAI_API_KEY\")\n",
    "    azure_api_version = os.environ.get(\"AZURE_OPENAI_API_VERSION\", \"2024-08-01-preview\")\n",
    "    \n",
    "    if azure_endpoint and azure_api_key:\n",
    "        # Azure OpenAI path\n",
    "        model = os.environ.get(\"MODEL\", \"your-deployment-name\")\n",
    "        client = OpenAI(\n",
    "            base_url=f\"{azure_endpoint}/openai\",\n",
    "            api_key=azure_api_key,\n",
    "            default_query={\"api-version\": azure_api_version},\n",
    "        )\n",
    "        print(f\"🌐 Using Azure OpenAI with model: {model}\")\n",
    "        return client, model\n",
    "    \n",
    "    # Foundry Local path\n",
    "    if FOUNDRY_SDK_AVAILABLE:\n",
    "        try:\n",
    "            # Use FoundryLocalManager for proper service management\n",
    "            manager = FoundryLocalManager(MODEL_ALIAS)\n",
    "            model_info = manager.get_model_info(MODEL_ALIAS)\n",
    "            \n",
    "            # Configure OpenAI client to use local Foundry service\n",
    "            client = OpenAI(\n",
    "                base_url=manager.endpoint,\n",
    "                api_key=manager.api_key  # API key is not required for local usage\n",
    "            )\n",
    "            model = model_info.id\n",
    "            print(f\"🏠 Using Foundry Local SDK with model: {model}\")\n",
    "            return client, model\n",
    "        except Exception as e:\n",
    "            print(f\"⚠️ Could not use Foundry SDK ({e}), falling back to manual configuration\")\n",
    "    \n",
    "    # Fallback to manual configuration\n",
    "    client = OpenAI(\n",
    "        base_url=f\"{BASE_URL}/v1\",\n",
    "        api_key=API_KEY\n",
    "    )\n",
    "    model = MODEL_ALIAS\n",
    "    print(f\"🔧 Using manual configuration with model: {model}\")\n",
    "    return client, model\n",
    "\n",
    "# Initialize the client\n",
    "client, model = create_client()"
   ]
  },
  {
   "cell_type": "markdown",
   "id": "9ba21aaf",
   "metadata": {},
   "source": [
    "## דוגמה בסיסית לצ'אט\n",
    "\n",
    "בואו נבדוק אינטראקציה פשוטה בצ'אט:\n"
   ]
  },
  {
   "cell_type": "code",
   "execution_count": null,
   "id": "8c218fe9",
   "metadata": {},
   "outputs": [],
   "source": [
    "def chat_with_model(prompt, max_tokens=128):\n",
    "    \"\"\"Send a chat message to the model and get a response.\"\"\"\n",
    "    try:\n",
    "        response = client.chat.completions.create(\n",
    "            model=model,\n",
    "            messages=[{\"role\": \"user\", \"content\": prompt}],\n",
    "            max_tokens=max_tokens\n",
    "        )\n",
    "        \n",
    "        return response.choices[0].message.content\n",
    "    except Exception as e:\n",
    "        return f\"Error: {e}\"\n",
    "\n",
    "# Test with a simple prompt\n",
    "prompt = \"Say hello from Foundry Local and explain what you are in one sentence.\"\n",
    "print(f\"👤 User: {prompt}\")\n",
    "print(\"\\n🤖 Assistant:\")\n",
    "response = chat_with_model(prompt)\n",
    "print(response)"
   ]
  },
  {
   "cell_type": "markdown",
   "id": "4486da26",
   "metadata": {},
   "source": [
    "## שיחת צ'אט אינטראקטיבית\n",
    "\n",
    "נסו סוגים שונים של הנחיות כדי לראות כיצד המודל מגיב:\n"
   ]
  },
  {
   "cell_type": "code",
   "execution_count": null,
   "id": "498a434e",
   "metadata": {},
   "outputs": [],
   "source": [
    "# Example prompts to try\n",
    "example_prompts = [\n",
    "    \"What are the benefits of edge AI?\",\n",
    "    \"Explain the difference between local and cloud AI inference.\",\n",
    "    \"Write a short Python function to calculate the factorial of a number.\",\n",
    "    \"What is Microsoft Foundry Local?\"\n",
    "]\n",
    "\n",
    "for i, prompt in enumerate(example_prompts, 1):\n",
    "    print(f\"\\n{'='*50}\")\n",
    "    print(f\"Example {i}: {prompt}\")\n",
    "    print(f\"{'='*50}\")\n",
    "    \n",
    "    response = chat_with_model(prompt, max_tokens=200)\n",
    "    print(response)"
   ]
  },
  {
   "cell_type": "markdown",
   "id": "f7de79cf",
   "metadata": {},
   "source": [
    "## שימוש מתקדם: תגובות בסטרימינג\n",
    "\n",
    "עבור תגובות ארוכות יותר, סטרימינג יכול להציע חוויית משתמש טובה יותר:\n"
   ]
  },
  {
   "cell_type": "code",
   "execution_count": null,
   "id": "2fd1929b",
   "metadata": {},
   "outputs": [],
   "source": [
    "def chat_with_streaming(prompt, max_tokens=300):\n",
    "    \"\"\"Send a chat message with streaming response.\"\"\"\n",
    "    try:\n",
    "        stream = client.chat.completions.create(\n",
    "            model=model,\n",
    "            messages=[{\"role\": \"user\", \"content\": prompt}],\n",
    "            max_tokens=max_tokens,\n",
    "            stream=True\n",
    "        )\n",
    "        \n",
    "        print(\"🤖 Assistant (streaming):\")\n",
    "        full_response = \"\"\n",
    "        for chunk in stream:\n",
    "            if chunk.choices[0].delta.content is not None:\n",
    "                content = chunk.choices[0].delta.content\n",
    "                print(content, end=\"\", flush=True)\n",
    "                full_response += content\n",
    "        print(\"\\n\")  # New line after streaming\n",
    "        return full_response\n",
    "    except Exception as e:\n",
    "        return f\"Error: {e}\"\n",
    "\n",
    "# Test streaming with a longer prompt\n",
    "streaming_prompt = \"Explain the advantages of running AI models locally on device versus in the cloud. Include privacy, latency, and cost considerations.\"\n",
    "print(f\"👤 User: {streaming_prompt}\\n\")\n",
    "streaming_response = chat_with_streaming(streaming_prompt)"
   ]
  },
  {
   "cell_type": "markdown",
   "id": "2af26f71",
   "metadata": {},
   "source": [
    "## טיפול בשגיאות ואבחון\n",
    "\n",
    "בואו נבדוק את מצב השירות ואת המודלים הזמינים:\n"
   ]
  },
  {
   "cell_type": "code",
   "execution_count": null,
   "id": "ce916e8c",
   "metadata": {},
   "outputs": [],
   "source": [
    "def check_service_health():\n",
    "    \"\"\"Check Foundry Local service health.\"\"\"\n",
    "    try:\n",
    "        # Try to list available models\n",
    "        models_response = client.models.list()\n",
    "        models = [model.id for model in models_response.data]\n",
    "        \n",
    "        print(\"✅ Service is healthy\")\n",
    "        print(f\"📋 Available models: {models}\")\n",
    "        print(f\"🎯 Current model: {model}\")\n",
    "        \n",
    "        if model in models:\n",
    "            print(\"✅ Current model is available\")\n",
    "        else:\n",
    "            print(\"⚠️ Current model may not be loaded\")\n",
    "            \n",
    "    except Exception as e:\n",
    "        print(f\"❌ Service check failed: {e}\")\n",
    "        print(\"\\n🔧 Troubleshooting tips:\")\n",
    "        print(\"1. Make sure Foundry Local is running\")\n",
    "        print(\"2. Check if a model is loaded: foundry service ps\")\n",
    "        print(\"3. Verify the endpoint URL is correct\")\n",
    "\n",
    "check_service_health()"
   ]
  },
  {
   "cell_type": "markdown",
   "id": "4a20cc6a",
   "metadata": {},
   "source": [
    "## בדיקת הנחיות מותאמות אישית\n",
    "\n",
    "השתמש בתא למטה כדי לבדוק את ההנחיות שלך:\n"
   ]
  },
  {
   "cell_type": "code",
   "execution_count": null,
   "id": "a811dc55",
   "metadata": {},
   "outputs": [],
   "source": [
    "# Enter your custom prompt here\n",
    "custom_prompt = \"Write a haiku about artificial intelligence running on edge devices.\"\n",
    "\n",
    "print(f\"👤 User: {custom_prompt}\\n\")\n",
    "custom_response = chat_with_model(custom_prompt, max_tokens=100)\n",
    "print(f\"🤖 Assistant: {custom_response}\")"
   ]
  },
  {
   "cell_type": "markdown",
   "id": "94781c19",
   "metadata": {},
   "source": [
    "## סיכום\n",
    "\n",
    "מחברת זו הדגימה:\n",
    "\n",
    "1. **✅ הגדרת לקוח**: כיצד להגדיר את OpenAI SDK עם Foundry Local  \n",
    "2. **✅ צ'אט בסיסי**: אינטראקציות פשוטות של בקשה-תגובה  \n",
    "3. **✅ סטרימינג**: יצירת תגובות בזמן אמת  \n",
    "4. **✅ טיפול בשגיאות**: טיפול בשגיאות בצורה חזקה ואבחון  \n",
    "5. **✅ מצב שירות**: בדיקת זמינות מודלים ומצב השירות  \n",
    "\n",
    "### צעדים הבאים\n",
    "\n",
    "- **דוגמה 02**: אינטגרציה מתקדמת של SDK עם תמיכה ב-Azure OpenAI  \n",
    "- **דוגמה 04**: בניית אפליקציית צ'אט עם Chainlit  \n",
    "- **דוגמה 05**: מערכות תזמור מרובות סוכנים  \n",
    "- **דוגמה 06**: ניתוב מודלים חכם  \n",
    "\n",
    "### יתרונות מרכזיים של Foundry Local\n",
    "\n",
    "- 🔒 **פרטיות**: הנתונים לעולם לא עוזבים את המכשיר שלך  \n",
    "- ⚡ **מהירות**: זמן תגובה נמוך עם הסקה מקומית  \n",
    "- 💰 **עלות**: ללא עלויות שימוש ב-API  \n",
    "- 🔌 **אופליין**: עובד ללא חיבור לאינטרנט  \n",
    "- 🛠️ **תאימות**: API תואם ל-OpenAI  \n"
   ]
  }
 ],
 "metadata": {
  "kernelspec": {
   "display_name": "pydev",
   "language": "python",
   "name": "python3"
  },
  "language_info": {
   "codemirror_mode": {
    "name": "ipython",
    "version": 3
   },
   "file_extension": ".py",
   "mimetype": "text/x-python",
   "name": "python",
   "nbconvert_exporter": "python",
   "pygments_lexer": "ipython3",
   "version": "3.11.8"
  },
  "coopTranslator": {
   "original_hash": "0bbbe436ca59387b037750ffce6e88b3",
   "translation_date": "2025-09-25T00:15:11+00:00",
   "source_file": "Module08/samples/01/chat_quickstart.ipynb",
   "language_code": "he"
  }
 },
 "nbformat": 4,
 "nbformat_minor": 5
}
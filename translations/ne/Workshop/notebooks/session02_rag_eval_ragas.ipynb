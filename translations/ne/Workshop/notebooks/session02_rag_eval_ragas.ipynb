{
 "cells": [
  {
   "cell_type": "markdown",
   "id": "5392a8a8",
   "metadata": {},
   "source": [
    "# सत्र २ – RAG मूल्यांकन रागाससँग\n",
    "\n",
    "रागास मेट्रिक्स प्रयोग गरेर न्यूनतम RAG पाइपलाइनको मूल्यांकन गर्नुहोस्: उत्तर सान्दर्भिकता, विश्वसनीयता, सन्दर्भ सटीकता।\n"
   ]
  },
  {
   "cell_type": "markdown",
   "id": "2b34473b",
   "metadata": {},
   "source": [
    "# परिदृश्य\n",
    "यो परिदृश्यले न्यूनतम Retrieval Augmented Generation (RAG) पाइपलाइनलाई स्थानीय रूपमा मूल्याङ्कन गर्दछ। हामी:\n",
    "- सानो कृत्रिम कागजात संग्रह परिभाषित गर्छौं।\n",
    "- कागजातहरूलाई एम्बेड गर्छौं र साधारण समानता खोजी गर्ने प्रणाली कार्यान्वयन गर्छौं।\n",
    "- स्थानीय मोडेल (Foundry Local / OpenAI-संगत) प्रयोग गरेर आधारभूत उत्तरहरू उत्पन्न गर्छौं।\n",
    "- ragas मेट्रिक्स (`answer_relevancy`, `faithfulness`, `context_precision`) गणना गर्छौं।\n",
    "- छिटो पुनरावृत्तिका लागि FAST मोड (env `RAG_FAST=1`) लाई समर्थन गर्छौं, जसले केवल उत्तरको सान्दर्भिकता गणना गर्छ।\n",
    "\n",
    "यो नोटबुक प्रयोग गरेर सुनिश्चित गर्नुहोस् कि तपाईंको स्थानीय मोडेल + एम्बेडिङ स्ट्याकले ठूला कागजात संग्रहमा विस्तार गर्नु अघि तथ्यमा आधारित उत्तरहरू उत्पादन गर्छ।\n"
   ]
  },
  {
   "cell_type": "markdown",
   "id": "e9eb1aa2",
   "metadata": {},
   "source": [
    "### व्याख्या: निर्भरता स्थापना\n",
    "आवश्यक पुस्तकालयहरू स्थापना गर्दछ:\n",
    "- स्थानीय मोडेल व्यवस्थापनको लागि `foundry-local-sdk`।\n",
    "- `openai` क्लाइन्ट इन्टरफेसको लागि।\n",
    "- घना एम्बेडिङहरूको लागि `sentence-transformers`।\n",
    "- मूल्याङ्कन र मेट्रिक गणनाको लागि `ragas` + `datasets`।\n",
    "- ragas LLM इन्टरफेसको लागि `langchain-openai` एडाप्टर।\n",
    "\n",
    "पुन: चलाउन सुरक्षित; यदि वातावरण पहिले नै तयार छ भने छोड्न सकिन्छ।\n"
   ]
  },
  {
   "cell_type": "code",
   "execution_count": 1,
   "id": "ff641221",
   "metadata": {},
   "outputs": [],
   "source": [
    "# Install libraries (ragas pulls datasets, evaluate, etc.)\n",
    "!pip install -q foundry-local-sdk openai sentence-transformers ragas datasets numpy langchain-openai"
   ]
  },
  {
   "cell_type": "markdown",
   "id": "61e82678",
   "metadata": {},
   "source": [
    "### व्याख्या: कोर आयातहरू र मेट्रिक्स\n",
    "कोर पुस्तकालयहरू र रागा मेट्रिक्स लोड गर्दछ। मुख्य अंशहरू:\n",
    "- एम्बेडिङको लागि SentenceTransformer।\n",
    "- `evaluate` + चयन गरिएका रागा मेट्रिक्स।\n",
    "- मूल्याङ्कन कोष निर्माण गर्न `Dataset`।\n",
    "यी आयातहरूले टाढाको कलहरू ट्रिगर गर्दैनन् (एम्बेडिङको लागि सम्भावित मोडेल क्यास लोड बाहेक)।\n"
   ]
  },
  {
   "cell_type": "code",
   "execution_count": 2,
   "id": "519dabae",
   "metadata": {},
   "outputs": [],
   "source": [
    "import os, numpy as np\n",
    "from sentence_transformers import SentenceTransformer\n",
    "from foundry_local import FoundryLocalManager\n",
    "from openai import OpenAI\n",
    "from ragas import evaluate\n",
    "from ragas.metrics import answer_relevancy, faithfulness, context_precision\n",
    "from datasets import Dataset"
   ]
  },
  {
   "cell_type": "markdown",
   "id": "74f01938",
   "metadata": {},
   "source": [
    "### व्याख्या: टॉय कर्पस र QA ग्राउन्ड ट्रुथ\n",
    "एक सानो इन-मेमोरी कर्पस (`DOCS`), प्रयोगकर्ताका प्रश्नहरूको सेट, र अपेक्षित ग्राउन्ड ट्रुथ उत्तरहरू परिभाषित गर्दछ। यीले बाह्य डेटा फेच नगरी छिटो र निर्धारणात्मक मेट्रिक गणना गर्न अनुमति दिन्छ। वास्तविक परिदृश्यहरूमा, तपाईं उत्पादन क्वेरीहरू + क्युरेटेड उत्तरहरू नमूना गर्नुहुनेछ।\n"
   ]
  },
  {
   "cell_type": "code",
   "execution_count": 3,
   "id": "27307d2e",
   "metadata": {},
   "outputs": [],
   "source": [
    "DOCS = [\n",
    " 'Foundry Local exposes a local OpenAI-compatible endpoint.',\n",
    " 'RAG retrieves relevant context snippets before generation.',\n",
    " 'Local inference improves privacy and reduces latency.',\n",
    "]\n",
    "QUESTIONS = [\n",
    " 'What advantage does local inference offer?',\n",
    " 'How does RAG improve grounding?',\n",
    "]\n",
    "GROUND_TRUTH = [\n",
    " 'It reduces latency and preserves privacy.',\n",
    " 'It adds retrieved context snippets for factual grounding.',\n",
    "]"
   ]
  },
  {
   "cell_type": "markdown",
   "id": "eaf3b2ec",
   "metadata": {},
   "source": [
    "### व्याख्या: सेवा आरम्भ, एम्बेडिङ्स र सुरक्षा प्याच\n",
    "Foundry Local प्रबन्धकलाई आरम्भ गर्छ, `promptTemplate` को लागि स्किमा-ड्रिफ्ट सुरक्षा प्याच लागू गर्छ, मोडेल आईडी समाधान गर्छ, OpenAI-संगत क्लाइन्ट सिर्जना गर्छ, र कागजात संग्रहको लागि घना एम्बेडिङ्स पूर्व-गणना गर्छ। यसले पुन: प्रयोग गर्न मिल्ने अवस्था पुनःप्राप्ति + उत्पादनको लागि तयार गर्छ।\n"
   ]
  },
  {
   "cell_type": "code",
   "execution_count": 4,
   "id": "156a7bc9",
   "metadata": {},
   "outputs": [
    {
     "name": "stdout",
     "output_type": "stream",
     "text": [
      "Service running: True | Endpoint: http://127.0.0.1:57127/v1\n",
      "Cached models: [FoundryModelInfo(alias=gpt-oss-20b, id=gpt-oss-20b-cuda-gpu:1, execution_provider=CUDAExecutionProvider, device_type=GPU, file_size=9882 MB, license=apache-2.0), FoundryModelInfo(alias=phi-3.5-mini, id=Phi-3.5-mini-instruct-cuda-gpu:1, execution_provider=CUDAExecutionProvider, device_type=GPU, file_size=2181 MB, license=MIT), FoundryModelInfo(alias=phi-4-mini, id=Phi-4-mini-instruct-cuda-gpu:4, execution_provider=CUDAExecutionProvider, device_type=GPU, file_size=3686 MB, license=MIT), FoundryModelInfo(alias=qwen2.5-0.5b, id=qwen2.5-0.5b-instruct-cuda-gpu:3, execution_provider=CUDAExecutionProvider, device_type=GPU, file_size=528 MB, license=apache-2.0), FoundryModelInfo(alias=qwen2.5-7b, id=qwen2.5-7b-instruct-cuda-gpu:3, execution_provider=CUDAExecutionProvider, device_type=GPU, file_size=4843 MB, license=apache-2.0), FoundryModelInfo(alias=qwen2.5-coder-7b, id=qwen2.5-coder-7b-instruct-cuda-gpu:3, execution_provider=CUDAExecutionProvider, device_type=GPU, file_size=4843 MB, license=apache-2.0)]\n",
      "Using model id: Phi-4-mini-instruct-cuda-gpu:4\n"
     ]
    },
    {
     "name": "stderr",
     "output_type": "stream",
     "text": [
      "c:\\Users\\leestott\\AppData\\Local\\miniforge\\envs\\demo\\lib\\site-packages\\transformers\\models\\bert\\modeling_bert.py:440: UserWarning: 1Torch was not compiled with flash attention. (Triggered internally at C:\\cb\\pytorch_1000000000000\\work\\aten\\src\\ATen\\native\\transformers\\cuda\\sdp_utils.cpp:555.)\n",
      "  attn_output = torch.nn.functional.scaled_dot_product_attention(\n"
     ]
    }
   ],
   "source": [
    "import os\n",
    "from foundry_local import FoundryLocalManager\n",
    "from foundry_local.models import FoundryModelInfo\n",
    "from openai import OpenAI\n",
    "\n",
    "# --- Safe monkeypatch for potential null promptTemplate field (schema drift guard) ---\n",
    "_original_from_list_response = FoundryModelInfo.from_list_response\n",
    "\n",
    "def _safe_from_list_response(response):  # type: ignore\n",
    "    try:\n",
    "        if isinstance(response, dict) and response.get(\"promptTemplate\") is None:\n",
    "            response[\"promptTemplate\"] = {}\n",
    "    except Exception as e:  # pragma: no cover\n",
    "        print(f\"Warning normalizing promptTemplate: {e}\")\n",
    "    return _original_from_list_response(response)\n",
    "\n",
    "if getattr(FoundryModelInfo.from_list_response, \"__name__\", \"\") != \"_safe_from_list_response\":\n",
    "    FoundryModelInfo.from_list_response = staticmethod(_safe_from_list_response)  # type: ignore\n",
    "# --- End monkeypatch ---\n",
    "\n",
    "alias = os.getenv('FOUNDRY_LOCAL_ALIAS','phi-3.5-mini')\n",
    "manager = FoundryLocalManager(alias)\n",
    "print(f\"Service running: {manager.is_service_running()} | Endpoint: {manager.endpoint}\")\n",
    "print('Cached models:', manager.list_cached_models())\n",
    "model_info = manager.get_model_info(alias)\n",
    "model_id = model_info.id\n",
    "print(f\"Using model id: {model_id}\")\n",
    "\n",
    "# OpenAI-compatible client\n",
    "client = OpenAI(base_url=manager.endpoint, api_key=manager.api_key or 'not-needed')\n",
    "\n",
    "from sentence_transformers import SentenceTransformer\n",
    "embedder = SentenceTransformer('sentence-transformers/all-MiniLM-L6-v2')\n",
    "import numpy as np\n",
    "doc_emb = embedder.encode(DOCS, convert_to_numpy=True, normalize_embeddings=True)\n"
   ]
  },
  {
   "cell_type": "markdown",
   "id": "566d24a8",
   "metadata": {},
   "source": [
    "### व्याख्या: Retriever Function\n",
    "सामान्यीकृत embeddings मा डट प्रोडक्ट प्रयोग गरेर साधारण भेक्टर समानता retriever परिभाषित गर्दछ। शीर्ष-k डकहरू (k=2 डिफल्ट) फिर्ता गर्छ। उत्पादनमा स्केल र लेटेंसीका लागि ANN इन्डेक्स (FAISS, Chroma, Milvus) सँग परिवर्तन गर्नुहोस्।\n"
   ]
  },
  {
   "cell_type": "code",
   "execution_count": 5,
   "id": "0af32d21",
   "metadata": {},
   "outputs": [],
   "source": [
    "def retrieve(query, k=2):\n",
    "    q = embedder.encode([query], convert_to_numpy=True, normalize_embeddings=True)[0]\n",
    "    sims = doc_emb @ q\n",
    "    return [DOCS[i] for i in sims.argsort()[::-1][:k]]"
   ]
  },
  {
   "cell_type": "markdown",
   "id": "b00f284e",
   "metadata": {},
   "source": [
    "### व्याख्या: जेनेरेशन फङ्सन\n",
    "`generate` ले सीमित प्रम्प्ट निर्माण गर्छ (सिस्टमले मात्र सन्दर्भ प्रयोग गर्न निर्देशन दिन्छ) र स्थानीय मोडेललाई कल गर्छ। कम तापक्रम (0.1) ले सिर्जनशीलताभन्दा सत्यतामा आधारित निष्कर्षलाई प्राथमिकता दिन्छ। काटिएको उत्तर पाठ फर्काउँछ।\n"
   ]
  },
  {
   "cell_type": "code",
   "execution_count": 6,
   "id": "7798ef22",
   "metadata": {},
   "outputs": [],
   "source": [
    "def generate(query, contexts):\n",
    "    ctx = \"\\n\".join(contexts)\n",
    "    messages = [\n",
    "        {'role':'system','content':'Answer using ONLY the provided context.'},\n",
    "        {'role':'user','content':f\"Context:\\n{ctx}\\n\\nQuestion: {query}\"}\n",
    "    ]\n",
    "    resp = client.chat.completions.create(model=model_id, messages=messages, max_tokens=120, temperature=0.1)\n",
    "    return resp.choices[0].message.content.strip()\n"
   ]
  },
  {
   "cell_type": "markdown",
   "id": "1fbde788",
   "metadata": {},
   "source": [
    "### व्याख्या: फलब्याक क्लाइन्ट इनिसियलाइजेसन\n",
    "`client` को अस्तित्व सुनिश्चित गर्दछ, चाहे पहिलेको इनिसियलाइजेसन सेल छुटेको होस् वा असफल भएको हो—पछिल्ला मूल्याङ्कन चरणहरूमा NameError हुनबाट जोगाउँछ।\n"
   ]
  },
  {
   "cell_type": "code",
   "execution_count": 7,
   "id": "6e71f8fc",
   "metadata": {},
   "outputs": [],
   "source": [
    "# Fallback client initialization (added after patch failure)\n",
    "try:\n",
    "    client  # type: ignore\n",
    "except NameError:\n",
    "    from openai import OpenAI\n",
    "    client = OpenAI(base_url=manager.endpoint, api_key=manager.api_key or 'not-needed')\n",
    "    print('Initialized OpenAI-compatible client (late init).')\n"
   ]
  },
  {
   "cell_type": "markdown",
   "id": "d17386ee",
   "metadata": {},
   "source": [
    "### व्याख्या: मूल्यांकन लूप र मेट्रिक्स\n",
    "मूल्यांकन डेटासेट तयार गर्दछ (आवश्यक स्तम्भहरू: प्रश्न, उत्तर, सन्दर्भहरू, वास्तविक उत्तरहरू, सन्दर्भ) र त्यसपछि चयन गरिएका रागास मेट्रिक्सहरूमा पुनरावृत्ति गर्दछ।\n",
    "\n",
    "अप्टिमाइजेसन:\n",
    "- FAST_MODE ले छिटो परीक्षणका लागि उत्तरको सान्दर्भिकतालाई मात्र सीमित गर्दछ।\n",
    "- प्रति-मेट्रिक लूपले कुनै एक मेट्रिक असफल हुँदा पूर्ण पुन:गणना हुनबाट जोगाउँछ।\n",
    "\n",
    "एक dict उत्पादन गर्दछ जसमा मेट्रिक -> स्कोर हुन्छ (असफल भएमा NaN)।\n"
   ]
  },
  {
   "cell_type": "code",
   "execution_count": 8,
   "id": "521a9163",
   "metadata": {},
   "outputs": [
    {
     "name": "stdout",
     "output_type": "stream",
     "text": [
      "Evaluation dataset columns: ['question', 'answer', 'contexts', 'ground_truths', 'reference']\n",
      "Metrics to compute: ['answer_relevancy']\n"
     ]
    },
    {
     "name": "stderr",
     "output_type": "stream",
     "text": [
      "LLM returned 1 generations instead of requested 3. Proceeding with 1 generations.\n",
      "LLM returned 1 generations instead of requested 3. Proceeding with 1 generations.\n",
      "LLM returned 1 generations instead of requested 3. Proceeding with 1 generations.\n"
     ]
    },
    {
     "name": "stdout",
     "output_type": "stream",
     "text": [
      "answer_relevancy finished in 78.1s -> 0.6975427764759168\n",
      "RAG evaluation results: {'answer_relevancy': 0.6975427764759168}\n"
     ]
    },
    {
     "data": {
      "text/plain": [
       "{'answer_relevancy': 0.6975427764759168}"
      ]
     },
     "execution_count": 8,
     "metadata": {},
     "output_type": "execute_result"
    }
   ],
   "source": [
    "# Build evaluation dataset with required columns (including 'reference' for context_precision)\n",
    "records = []\n",
    "for q, gt in zip(QUESTIONS, GROUND_TRUTH):\n",
    "    ctxs = retrieve(q)\n",
    "    ans = generate(q, ctxs)\n",
    "    records.append({\n",
    "        'question': q,\n",
    "        'answer': ans,\n",
    "        'contexts': ctxs,\n",
    "        'ground_truths': [gt],\n",
    "        'reference': gt\n",
    "    })\n",
    "\n",
    "from datasets import Dataset\n",
    "from ragas import evaluate\n",
    "from ragas.metrics import answer_relevancy, faithfulness, context_precision\n",
    "from langchain_openai import ChatOpenAI\n",
    "from ragas.run_config import RunConfig\n",
    "import math, time, os\n",
    "import numpy as np\n",
    "\n",
    "ragas_llm = ChatOpenAI(model=model_id, base_url=manager.endpoint, api_key=manager.api_key or 'not-needed', temperature=0.0, timeout=60)\n",
    "\n",
    "class LocalEmbeddings:\n",
    "    def embed_documents(self, texts):\n",
    "        return embedder.encode(texts, convert_to_numpy=True, normalize_embeddings=True).tolist()\n",
    "    def embed_query(self, text):\n",
    "        return embedder.encode([text], convert_to_numpy=True, normalize_embeddings=True)[0].tolist()\n",
    "\n",
    "# Fast mode: only answer_relevancy unless RAG_FAST=0\n",
    "FAST_MODE = os.getenv('RAG_FAST','1') == '1'\n",
    "metrics = [answer_relevancy] if FAST_MODE else [answer_relevancy, faithfulness, context_precision]\n",
    "\n",
    "base_timeout = 45 if FAST_MODE else 120\n",
    "\n",
    "ds = Dataset.from_list(records)\n",
    "print('Evaluation dataset columns:', ds.column_names)\n",
    "print('Metrics to compute:', [m.name for m in metrics])\n",
    "\n",
    "results_dict = {}\n",
    "for metric in metrics:\n",
    "    t0 = time.time()\n",
    "    try:\n",
    "        cfg = RunConfig(timeout=base_timeout, max_workers=1)\n",
    "        partial = evaluate(ds, metrics=[metric], llm=ragas_llm, embeddings=LocalEmbeddings(), run_config=cfg, show_progress=False)\n",
    "        raw_val = partial[metric.name]\n",
    "        if isinstance(raw_val, list):\n",
    "            numeric = [v for v in raw_val if isinstance(v, (int, float))]\n",
    "            score = float(np.nanmean(numeric)) if numeric else math.nan\n",
    "        else:\n",
    "            score = float(raw_val)\n",
    "        results_dict[metric.name] = score\n",
    "    except Exception as e:\n",
    "        results_dict[metric.name] = math.nan\n",
    "        print(f\"Metric {metric.name} failed: {e}\")\n",
    "    finally:\n",
    "        print(f\"{metric.name} finished in {time.time()-t0:.1f}s -> {results_dict[metric.name]}\")\n",
    "\n",
    "print('RAG evaluation results:', results_dict)\n",
    "results_dict"
   ]
  },
  {
   "cell_type": "markdown",
   "metadata": {},
   "source": [
    "\n---\n\n**अस्वीकरण**:  \nयो दस्तावेज़ AI अनुवाद सेवा [Co-op Translator](https://github.com/Azure/co-op-translator) प्रयोग गरी अनुवाद गरिएको हो। हामी यथासम्भव सटीकता सुनिश्चित गर्न प्रयास गर्छौं, तर कृपया ध्यान दिनुहोस् कि स्वचालित अनुवादहरूमा त्रुटिहरू वा अशुद्धताहरू हुन सक्छन्। यसको मूल भाषामा रहेको मूल दस्तावेज़लाई आधिकारिक स्रोत मानिनुपर्छ। महत्त्वपूर्ण जानकारीका लागि, व्यावसायिक मानव अनुवाद सिफारिस गरिन्छ। यस अनुवादको प्रयोगबाट उत्पन्न हुने कुनै पनि गलतफहमी वा गलत व्याख्याका लागि हामी जिम्मेवार हुने छैनौं।\n"
   ]
  }
 ],
 "metadata": {
  "kernelspec": {
   "display_name": "demo",
   "language": "python",
   "name": "python3"
  },
  "language_info": {
   "codemirror_mode": {
    "name": "ipython",
    "version": 3
   },
   "file_extension": ".py",
   "mimetype": "text/x-python",
   "name": "python",
   "nbconvert_exporter": "python",
   "pygments_lexer": "ipython3",
   "version": "3.10.15"
  },
  "coopTranslator": {
   "original_hash": "4895a2e01d85b98643a177c89ff7757f",
   "translation_date": "2025-10-09T09:59:41+00:00",
   "source_file": "Workshop/notebooks/session02_rag_eval_ragas.ipynb",
   "language_code": "ne"
  }
 },
 "nbformat": 4,
 "nbformat_minor": 5
}
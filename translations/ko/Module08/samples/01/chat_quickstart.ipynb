{
 "cells": [
  {
   "cell_type": "markdown",
   "id": "89e4efda",
   "metadata": {},
   "source": [
    "# 샘플 01: OpenAI SDK를 통한 빠른 채팅\n",
    "\n",
    "이 노트북은 Microsoft Foundry Local과 함께 OpenAI SDK를 사용하여 빠른 채팅 상호작용을 구현하는 방법을 보여줍니다.\n",
    "\n",
    "## 개요\n",
    "\n",
    "이 예제에서는 다음을 보여줍니다:\n",
    "- Foundry Local과 함께 OpenAI Python SDK 사용\n",
    "- Azure OpenAI와 로컬 Foundry 설정 모두 처리\n",
    "- 적절한 오류 처리 및 대체 전략 구현\n",
    "- 서비스 관리를 위한 FoundryLocalManager 사용\n"
   ]
  },
  {
   "cell_type": "markdown",
   "id": "1a8048e2",
   "metadata": {},
   "source": [
    "## 사전 준비 사항\n",
    "\n",
    "다음 사항을 확인하세요:\n",
    "1. Foundry Local이 설치되어 실행 중인지\n",
    "2. 모델이 로드되어 있는지 (예: `foundry model run phi-4-mini`)\n",
    "3. 필요한 Python 패키지가 설치되어 있는지\n",
    "\n",
    "### 종속성 설치\n"
   ]
  },
  {
   "cell_type": "code",
   "execution_count": null,
   "id": "2438a478",
   "metadata": {},
   "outputs": [],
   "source": [
    "# Install required packages if not already installed\n",
    "!pip install openai foundry-local-sdk"
   ]
  },
  {
   "cell_type": "markdown",
   "id": "c9b6f26b",
   "metadata": {},
   "source": [
    "## 필수 라이브러리 가져오기\n"
   ]
  },
  {
   "cell_type": "code",
   "execution_count": null,
   "id": "ffaf07f1",
   "metadata": {},
   "outputs": [],
   "source": [
    "import os\n",
    "import sys\n",
    "from openai import OpenAI\n",
    "\n",
    "try:\n",
    "    from foundry_local import FoundryLocalManager\n",
    "    FOUNDRY_SDK_AVAILABLE = True\n",
    "    print(\"✅ Foundry Local SDK is available\")\n",
    "except ImportError:\n",
    "    FOUNDRY_SDK_AVAILABLE = False\n",
    "    print(\"⚠️ Foundry Local SDK not available, will use manual configuration\")"
   ]
  },
  {
   "cell_type": "markdown",
   "id": "ad0797ee",
   "metadata": {},
   "source": [
    "## 구성\n",
    "\n",
    "구성을 설정하세요. 다음 중 하나를 사용할 수 있습니다:\n",
    "1. **Azure OpenAI** (클라우드 기반)\n",
    "2. **Foundry Local** (로컬 추론)\n",
    "\n",
    "### 옵션 1: Azure OpenAI 구성\n"
   ]
  },
  {
   "cell_type": "code",
   "execution_count": null,
   "id": "bc8e1618",
   "metadata": {},
   "outputs": [],
   "source": [
    "# Azure OpenAI Configuration (uncomment and set your values)\n",
    "# os.environ[\"AZURE_OPENAI_ENDPOINT\"] = \"https://your-resource.openai.azure.com\"\n",
    "# os.environ[\"AZURE_OPENAI_API_KEY\"] = \"your-api-key\"\n",
    "# os.environ[\"AZURE_OPENAI_API_VERSION\"] = \"2024-08-01-preview\"\n",
    "# os.environ[\"MODEL\"] = \"your-deployment-name\""
   ]
  },
  {
   "cell_type": "markdown",
   "id": "48239d5a",
   "metadata": {},
   "source": [
    "### 옵션 2: 파운드리 로컬 구성\n"
   ]
  },
  {
   "cell_type": "code",
   "execution_count": null,
   "id": "0d6daa80",
   "metadata": {},
   "outputs": [],
   "source": [
    "# Foundry Local Configuration\n",
    "MODEL_ALIAS = \"phi-4-mini\"  # Change this to your preferred model\n",
    "BASE_URL = \"http://localhost:8000\"  # Default Foundry Local URL\n",
    "API_KEY = \"\"  # Usually not needed for local"
   ]
  },
  {
   "cell_type": "markdown",
   "id": "016e826e",
   "metadata": {},
   "source": [
    "## 클라이언트 초기화\n",
    "\n",
    "구성에 따라 OpenAI 클라이언트를 생성합니다:\n"
   ]
  },
  {
   "cell_type": "code",
   "execution_count": null,
   "id": "941ec581",
   "metadata": {},
   "outputs": [],
   "source": [
    "def create_client():\n",
    "    \"\"\"Create and configure OpenAI client.\"\"\"\n",
    "    \n",
    "    # Check for Azure OpenAI configuration\n",
    "    azure_endpoint = os.environ.get(\"AZURE_OPENAI_ENDPOINT\")\n",
    "    azure_api_key = os.environ.get(\"AZURE_OPENAI_API_KEY\")\n",
    "    azure_api_version = os.environ.get(\"AZURE_OPENAI_API_VERSION\", \"2024-08-01-preview\")\n",
    "    \n",
    "    if azure_endpoint and azure_api_key:\n",
    "        # Azure OpenAI path\n",
    "        model = os.environ.get(\"MODEL\", \"your-deployment-name\")\n",
    "        client = OpenAI(\n",
    "            base_url=f\"{azure_endpoint}/openai\",\n",
    "            api_key=azure_api_key,\n",
    "            default_query={\"api-version\": azure_api_version},\n",
    "        )\n",
    "        print(f\"🌐 Using Azure OpenAI with model: {model}\")\n",
    "        return client, model\n",
    "    \n",
    "    # Foundry Local path\n",
    "    if FOUNDRY_SDK_AVAILABLE:\n",
    "        try:\n",
    "            # Use FoundryLocalManager for proper service management\n",
    "            manager = FoundryLocalManager(MODEL_ALIAS)\n",
    "            model_info = manager.get_model_info(MODEL_ALIAS)\n",
    "            \n",
    "            # Configure OpenAI client to use local Foundry service\n",
    "            client = OpenAI(\n",
    "                base_url=manager.endpoint,\n",
    "                api_key=manager.api_key  # API key is not required for local usage\n",
    "            )\n",
    "            model = model_info.id\n",
    "            print(f\"🏠 Using Foundry Local SDK with model: {model}\")\n",
    "            return client, model\n",
    "        except Exception as e:\n",
    "            print(f\"⚠️ Could not use Foundry SDK ({e}), falling back to manual configuration\")\n",
    "    \n",
    "    # Fallback to manual configuration\n",
    "    client = OpenAI(\n",
    "        base_url=f\"{BASE_URL}/v1\",\n",
    "        api_key=API_KEY\n",
    "    )\n",
    "    model = MODEL_ALIAS\n",
    "    print(f\"🔧 Using manual configuration with model: {model}\")\n",
    "    return client, model\n",
    "\n",
    "# Initialize the client\n",
    "client, model = create_client()"
   ]
  },
  {
   "cell_type": "markdown",
   "id": "9ba21aaf",
   "metadata": {},
   "source": [
    "## 간단한 채팅 예제\n",
    "\n",
    "간단한 채팅 상호작용을 테스트해봅시다:\n"
   ]
  },
  {
   "cell_type": "code",
   "execution_count": null,
   "id": "8c218fe9",
   "metadata": {},
   "outputs": [],
   "source": [
    "def chat_with_model(prompt, max_tokens=128):\n",
    "    \"\"\"Send a chat message to the model and get a response.\"\"\"\n",
    "    try:\n",
    "        response = client.chat.completions.create(\n",
    "            model=model,\n",
    "            messages=[{\"role\": \"user\", \"content\": prompt}],\n",
    "            max_tokens=max_tokens\n",
    "        )\n",
    "        \n",
    "        return response.choices[0].message.content\n",
    "    except Exception as e:\n",
    "        return f\"Error: {e}\"\n",
    "\n",
    "# Test with a simple prompt\n",
    "prompt = \"Say hello from Foundry Local and explain what you are in one sentence.\"\n",
    "print(f\"👤 User: {prompt}\")\n",
    "print(\"\\n🤖 Assistant:\")\n",
    "response = chat_with_model(prompt)\n",
    "print(response)"
   ]
  },
  {
   "cell_type": "markdown",
   "id": "4486da26",
   "metadata": {},
   "source": [
    "## 대화형 채팅 세션\n",
    "\n",
    "다양한 유형의 프롬프트를 시도하여 모델이 어떻게 반응하는지 확인해 보세요:\n"
   ]
  },
  {
   "cell_type": "code",
   "execution_count": null,
   "id": "498a434e",
   "metadata": {},
   "outputs": [],
   "source": [
    "# Example prompts to try\n",
    "example_prompts = [\n",
    "    \"What are the benefits of edge AI?\",\n",
    "    \"Explain the difference between local and cloud AI inference.\",\n",
    "    \"Write a short Python function to calculate the factorial of a number.\",\n",
    "    \"What is Microsoft Foundry Local?\"\n",
    "]\n",
    "\n",
    "for i, prompt in enumerate(example_prompts, 1):\n",
    "    print(f\"\\n{'='*50}\")\n",
    "    print(f\"Example {i}: {prompt}\")\n",
    "    print(f\"{'='*50}\")\n",
    "    \n",
    "    response = chat_with_model(prompt, max_tokens=200)\n",
    "    print(response)"
   ]
  },
  {
   "cell_type": "markdown",
   "id": "f7de79cf",
   "metadata": {},
   "source": [
    "## 고급 사용법: 스트리밍 응답\n",
    "\n",
    "응답이 길어질 경우, 스트리밍은 더 나은 사용자 경험을 제공할 수 있습니다:\n"
   ]
  },
  {
   "cell_type": "code",
   "execution_count": null,
   "id": "2fd1929b",
   "metadata": {},
   "outputs": [],
   "source": [
    "def chat_with_streaming(prompt, max_tokens=300):\n",
    "    \"\"\"Send a chat message with streaming response.\"\"\"\n",
    "    try:\n",
    "        stream = client.chat.completions.create(\n",
    "            model=model,\n",
    "            messages=[{\"role\": \"user\", \"content\": prompt}],\n",
    "            max_tokens=max_tokens,\n",
    "            stream=True\n",
    "        )\n",
    "        \n",
    "        print(\"🤖 Assistant (streaming):\")\n",
    "        full_response = \"\"\n",
    "        for chunk in stream:\n",
    "            if chunk.choices[0].delta.content is not None:\n",
    "                content = chunk.choices[0].delta.content\n",
    "                print(content, end=\"\", flush=True)\n",
    "                full_response += content\n",
    "        print(\"\\n\")  # New line after streaming\n",
    "        return full_response\n",
    "    except Exception as e:\n",
    "        return f\"Error: {e}\"\n",
    "\n",
    "# Test streaming with a longer prompt\n",
    "streaming_prompt = \"Explain the advantages of running AI models locally on device versus in the cloud. Include privacy, latency, and cost considerations.\"\n",
    "print(f\"👤 User: {streaming_prompt}\\n\")\n",
    "streaming_response = chat_with_streaming(streaming_prompt)"
   ]
  },
  {
   "cell_type": "markdown",
   "id": "2af26f71",
   "metadata": {},
   "source": [
    "## 오류 처리 및 진단\n",
    "\n",
    "서비스 상태와 사용 가능한 모델을 확인해봅시다:\n"
   ]
  },
  {
   "cell_type": "code",
   "execution_count": null,
   "id": "ce916e8c",
   "metadata": {},
   "outputs": [],
   "source": [
    "def check_service_health():\n",
    "    \"\"\"Check Foundry Local service health.\"\"\"\n",
    "    try:\n",
    "        # Try to list available models\n",
    "        models_response = client.models.list()\n",
    "        models = [model.id for model in models_response.data]\n",
    "        \n",
    "        print(\"✅ Service is healthy\")\n",
    "        print(f\"📋 Available models: {models}\")\n",
    "        print(f\"🎯 Current model: {model}\")\n",
    "        \n",
    "        if model in models:\n",
    "            print(\"✅ Current model is available\")\n",
    "        else:\n",
    "            print(\"⚠️ Current model may not be loaded\")\n",
    "            \n",
    "    except Exception as e:\n",
    "        print(f\"❌ Service check failed: {e}\")\n",
    "        print(\"\\n🔧 Troubleshooting tips:\")\n",
    "        print(\"1. Make sure Foundry Local is running\")\n",
    "        print(\"2. Check if a model is loaded: foundry service ps\")\n",
    "        print(\"3. Verify the endpoint URL is correct\")\n",
    "\n",
    "check_service_health()"
   ]
  },
  {
   "cell_type": "markdown",
   "id": "4a20cc6a",
   "metadata": {},
   "source": [
    "## 사용자 지정 프롬프트 테스트\n",
    "\n",
    "아래 셀을 사용하여 자신만의 프롬프트를 테스트하세요:\n"
   ]
  },
  {
   "cell_type": "code",
   "execution_count": null,
   "id": "a811dc55",
   "metadata": {},
   "outputs": [],
   "source": [
    "# Enter your custom prompt here\n",
    "custom_prompt = \"Write a haiku about artificial intelligence running on edge devices.\"\n",
    "\n",
    "print(f\"👤 User: {custom_prompt}\\n\")\n",
    "custom_response = chat_with_model(custom_prompt, max_tokens=100)\n",
    "print(f\"🤖 Assistant: {custom_response}\")"
   ]
  },
  {
   "cell_type": "markdown",
   "id": "94781c19",
   "metadata": {},
   "source": [
    "## 요약\n",
    "\n",
    "이 노트북에서는 다음을 시연했습니다:\n",
    "\n",
    "1. **✅ 클라이언트 설정**: Foundry Local을 사용하여 OpenAI SDK를 구성하는 방법\n",
    "2. **✅ 기본 채팅**: 간단한 요청-응답 상호작용\n",
    "3. **✅ 스트리밍**: 실시간 응답 생성\n",
    "4. **✅ 오류 처리**: 견고한 오류 처리 및 진단\n",
    "5. **✅ 서비스 상태**: 모델 가용성과 서비스 상태 확인\n",
    "\n",
    "### 다음 단계\n",
    "\n",
    "- **샘플 02**: Azure OpenAI 지원을 포함한 고급 SDK 통합\n",
    "- **샘플 04**: Chainlit 채팅 애플리케이션 구축\n",
    "- **샘플 05**: 다중 에이전트 오케스트레이션 시스템\n",
    "- **샘플 06**: 지능형 모델 라우팅\n",
    "\n",
    "### Foundry Local의 주요 장점\n",
    "\n",
    "- 🔒 **프라이버시**: 데이터가 절대 기기를 떠나지 않음\n",
    "- ⚡ **속도**: 낮은 지연 시간의 로컬 추론\n",
    "- 💰 **비용**: API 사용 비용 없음\n",
    "- 🔌 **오프라인**: 인터넷 연결 없이 작동\n",
    "- 🛠️ **호환성**: OpenAI 호환 API\n"
   ]
  }
 ],
 "metadata": {
  "kernelspec": {
   "display_name": "pydev",
   "language": "python",
   "name": "python3"
  },
  "language_info": {
   "codemirror_mode": {
    "name": "ipython",
    "version": 3
   },
   "file_extension": ".py",
   "mimetype": "text/x-python",
   "name": "python",
   "nbconvert_exporter": "python",
   "pygments_lexer": "ipython3",
   "version": "3.11.8"
  },
  "coopTranslator": {
   "original_hash": "0bbbe436ca59387b037750ffce6e88b3",
   "translation_date": "2025-09-24T10:50:02+00:00",
   "source_file": "Module08/samples/01/chat_quickstart.ipynb",
   "language_code": "ko"
  }
 },
 "nbformat": 4,
 "nbformat_minor": 5
}